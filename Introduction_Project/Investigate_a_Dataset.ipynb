{
 "cells": [
  {
   "cell_type": "markdown",
   "metadata": {},
   "source": [
    "# Project: Investigate a Dataset - Energy Generation vs Population Trends \n",
    "\n",
    "## Table of Contents\n",
    "<ul>\n",
    "<li><a href=\"#intro\">Introduction</a></li>\n",
    "<li><a href=\"#wrangling\">Data Wrangling</a></li>\n",
    "<li><a href=\"#eda\">Exploratory Data Analysis</a></li>\n",
    "<li><a href=\"#conclusions\">Conclusions</a></li>\n",
    "</ul>"
   ]
  },
  {
   "cell_type": "markdown",
   "metadata": {},
   "source": [
    "<a id='intro'></a>\n",
    "## Introduction\n",
    "\n",
    "### Dataset Description \n",
    "\n",
    "Datasets selected where extrated from **Gapminder World** and correspond to the population per year by country worldwide and the energy production in toe (tonnes of oil equivalent) per year by the countries worldwide. This datasets where chosen in order to correlate the population growth trend versus the energy production trend.\n",
    "\n",
    "\n",
    "### Question(s) for Analysis\n",
    "\n",
    "- *Wich are the trends of World Energy Production and Population from the last century?*\n",
    "\n",
    "- *Now, wich are the Energy Production per continent and Population trends from the last century?*\n",
    "\n"
   ]
  },
  {
   "cell_type": "markdown",
   "metadata": {},
   "source": [
    "**Importing the packages**"
   ]
  },
  {
   "cell_type": "code",
   "execution_count": 1,
   "metadata": {},
   "outputs": [],
   "source": [
    "import pandas as pd\n",
    "import numpy as np\n",
    "import matplotlib.pyplot as plt\n",
    "import seaborn as sns\n",
    "%matplotlib inline"
   ]
  },
  {
   "cell_type": "code",
   "execution_count": null,
   "metadata": {},
   "outputs": [],
   "source": [
    "# Upgrade pandas to use dataframe.explode() function. \n",
    "!pip install --upgrade pandas==0.25.0"
   ]
  },
  {
   "cell_type": "markdown",
   "metadata": {},
   "source": [
    "<a id='wrangling'></a>\n",
    "## Data Wrangling\n",
    "\n",
    "### General Properties"
   ]
  },
  {
   "cell_type": "markdown",
   "metadata": {},
   "source": [
    "**Loading data**"
   ]
  },
  {
   "cell_type": "code",
   "execution_count": 2,
   "metadata": {},
   "outputs": [],
   "source": [
    "population = pd.read_csv('population_total.csv')\n",
    "energy = pd.read_csv('energy_production_total.csv')"
   ]
  },
  {
   "cell_type": "markdown",
   "metadata": {},
   "source": [
    "**Set countries as indexes**"
   ]
  },
  {
   "cell_type": "code",
   "execution_count": 3,
   "metadata": {},
   "outputs": [],
   "source": [
    "population.set_index('country',inplace=True)\n",
    "energy.set_index('country',inplace=True)"
   ]
  },
  {
   "cell_type": "markdown",
   "metadata": {},
   "source": [
    "**Filter years of interest**\n",
    "\n",
    "*In order to have the most recent information of the datasets*"
   ]
  },
  {
   "cell_type": "code",
   "execution_count": 4,
   "metadata": {},
   "outputs": [
    {
     "data": {
      "text/plain": [
       "('2099', '2009')"
      ]
     },
     "execution_count": 4,
     "metadata": {},
     "output_type": "execute_result"
    }
   ],
   "source": [
    "max(population.columns),max(energy.columns)"
   ]
  },
  {
   "cell_type": "code",
   "execution_count": 5,
   "metadata": {},
   "outputs": [],
   "source": [
    "population_df = population.loc[:,'2000':'2009']\n",
    "energy_df = energy.loc[:,'2000':'2009']"
   ]
  },
  {
   "cell_type": "markdown",
   "metadata": {},
   "source": [
    "**Estructure of the datasets**"
   ]
  },
  {
   "cell_type": "code",
   "execution_count": 6,
   "metadata": {},
   "outputs": [
    {
     "data": {
      "text/plain": [
       "((197, 10), (135, 10))"
      ]
     },
     "execution_count": 6,
     "metadata": {},
     "output_type": "execute_result"
    }
   ],
   "source": [
    "population_df.shape,energy_df.shape"
   ]
  },
  {
   "cell_type": "code",
   "execution_count": 7,
   "metadata": {
    "scrolled": true
   },
   "outputs": [
    {
     "data": {
      "text/html": [
       "<div>\n",
       "<style scoped>\n",
       "    .dataframe tbody tr th:only-of-type {\n",
       "        vertical-align: middle;\n",
       "    }\n",
       "\n",
       "    .dataframe tbody tr th {\n",
       "        vertical-align: top;\n",
       "    }\n",
       "\n",
       "    .dataframe thead th {\n",
       "        text-align: right;\n",
       "    }\n",
       "</style>\n",
       "<table border=\"1\" class=\"dataframe\">\n",
       "  <thead>\n",
       "    <tr style=\"text-align: right;\">\n",
       "      <th></th>\n",
       "      <th>2000</th>\n",
       "      <th>2001</th>\n",
       "      <th>2002</th>\n",
       "      <th>2003</th>\n",
       "      <th>2004</th>\n",
       "      <th>2005</th>\n",
       "      <th>2006</th>\n",
       "      <th>2007</th>\n",
       "      <th>2008</th>\n",
       "      <th>2009</th>\n",
       "    </tr>\n",
       "    <tr>\n",
       "      <th>country</th>\n",
       "      <th></th>\n",
       "      <th></th>\n",
       "      <th></th>\n",
       "      <th></th>\n",
       "      <th></th>\n",
       "      <th></th>\n",
       "      <th></th>\n",
       "      <th></th>\n",
       "      <th></th>\n",
       "      <th></th>\n",
       "    </tr>\n",
       "  </thead>\n",
       "  <tbody>\n",
       "    <tr>\n",
       "      <th>Afghanistan</th>\n",
       "      <td>21.6M</td>\n",
       "      <td>22.6M</td>\n",
       "      <td>23.7M</td>\n",
       "      <td>24.7M</td>\n",
       "      <td>25.7M</td>\n",
       "      <td>26.4M</td>\n",
       "      <td>27.1M</td>\n",
       "      <td>27.7M</td>\n",
       "      <td>28.4M</td>\n",
       "      <td>29.2M</td>\n",
       "    </tr>\n",
       "    <tr>\n",
       "      <th>Angola</th>\n",
       "      <td>16.9M</td>\n",
       "      <td>17.5M</td>\n",
       "      <td>18.1M</td>\n",
       "      <td>18.8M</td>\n",
       "      <td>19.4M</td>\n",
       "      <td>20.1M</td>\n",
       "      <td>20.9M</td>\n",
       "      <td>21.7M</td>\n",
       "      <td>22.5M</td>\n",
       "      <td>23.4M</td>\n",
       "    </tr>\n",
       "    <tr>\n",
       "      <th>Albania</th>\n",
       "      <td>3.13M</td>\n",
       "      <td>3.13M</td>\n",
       "      <td>3.12M</td>\n",
       "      <td>3.1M</td>\n",
       "      <td>3.09M</td>\n",
       "      <td>3.06M</td>\n",
       "      <td>3.03M</td>\n",
       "      <td>3M</td>\n",
       "      <td>2.97M</td>\n",
       "      <td>2.95M</td>\n",
       "    </tr>\n",
       "    <tr>\n",
       "      <th>Andorra</th>\n",
       "      <td>67.3k</td>\n",
       "      <td>70k</td>\n",
       "      <td>73.2k</td>\n",
       "      <td>76.3k</td>\n",
       "      <td>78.9k</td>\n",
       "      <td>81k</td>\n",
       "      <td>82.7k</td>\n",
       "      <td>83.9k</td>\n",
       "      <td>84.5k</td>\n",
       "      <td>84.5k</td>\n",
       "    </tr>\n",
       "    <tr>\n",
       "      <th>United Arab Emirates</th>\n",
       "      <td>3.3M</td>\n",
       "      <td>3.48M</td>\n",
       "      <td>3.71M</td>\n",
       "      <td>4.07M</td>\n",
       "      <td>4.59M</td>\n",
       "      <td>5.3M</td>\n",
       "      <td>6.17M</td>\n",
       "      <td>7.09M</td>\n",
       "      <td>7.92M</td>\n",
       "      <td>8.55M</td>\n",
       "    </tr>\n",
       "  </tbody>\n",
       "</table>\n",
       "</div>"
      ],
      "text/plain": [
       "                       2000   2001   2002   2003   2004   2005   2006   2007  \\\n",
       "country                                                                        \n",
       "Afghanistan           21.6M  22.6M  23.7M  24.7M  25.7M  26.4M  27.1M  27.7M   \n",
       "Angola                16.9M  17.5M  18.1M  18.8M  19.4M  20.1M  20.9M  21.7M   \n",
       "Albania               3.13M  3.13M  3.12M   3.1M  3.09M  3.06M  3.03M     3M   \n",
       "Andorra               67.3k    70k  73.2k  76.3k  78.9k    81k  82.7k  83.9k   \n",
       "United Arab Emirates   3.3M  3.48M  3.71M  4.07M  4.59M   5.3M  6.17M  7.09M   \n",
       "\n",
       "                       2008   2009  \n",
       "country                             \n",
       "Afghanistan           28.4M  29.2M  \n",
       "Angola                22.5M  23.4M  \n",
       "Albania               2.97M  2.95M  \n",
       "Andorra               84.5k  84.5k  \n",
       "United Arab Emirates  7.92M  8.55M  "
      ]
     },
     "execution_count": 7,
     "metadata": {},
     "output_type": "execute_result"
    }
   ],
   "source": [
    "population_df.head()"
   ]
  },
  {
   "cell_type": "code",
   "execution_count": 8,
   "metadata": {},
   "outputs": [
    {
     "data": {
      "text/html": [
       "<div>\n",
       "<style scoped>\n",
       "    .dataframe tbody tr th:only-of-type {\n",
       "        vertical-align: middle;\n",
       "    }\n",
       "\n",
       "    .dataframe tbody tr th {\n",
       "        vertical-align: top;\n",
       "    }\n",
       "\n",
       "    .dataframe thead th {\n",
       "        text-align: right;\n",
       "    }\n",
       "</style>\n",
       "<table border=\"1\" class=\"dataframe\">\n",
       "  <thead>\n",
       "    <tr style=\"text-align: right;\">\n",
       "      <th></th>\n",
       "      <th>2000</th>\n",
       "      <th>2001</th>\n",
       "      <th>2002</th>\n",
       "      <th>2003</th>\n",
       "      <th>2004</th>\n",
       "      <th>2005</th>\n",
       "      <th>2006</th>\n",
       "      <th>2007</th>\n",
       "      <th>2008</th>\n",
       "      <th>2009</th>\n",
       "    </tr>\n",
       "    <tr>\n",
       "      <th>country</th>\n",
       "      <th></th>\n",
       "      <th></th>\n",
       "      <th></th>\n",
       "      <th></th>\n",
       "      <th></th>\n",
       "      <th></th>\n",
       "      <th></th>\n",
       "      <th></th>\n",
       "      <th></th>\n",
       "      <th></th>\n",
       "    </tr>\n",
       "  </thead>\n",
       "  <tbody>\n",
       "    <tr>\n",
       "      <th>Angola</th>\n",
       "      <td>43.5k</td>\n",
       "      <td>51.4k</td>\n",
       "      <td>51.4k</td>\n",
       "      <td>57.6k</td>\n",
       "      <td>70.9k</td>\n",
       "      <td>80k</td>\n",
       "      <td>95k</td>\n",
       "      <td>106k</td>\n",
       "      <td>101k</td>\n",
       "      <td>NaN</td>\n",
       "    </tr>\n",
       "    <tr>\n",
       "      <th>Albania</th>\n",
       "      <td>883</td>\n",
       "      <td>959</td>\n",
       "      <td>1050</td>\n",
       "      <td>1150</td>\n",
       "      <td>1170</td>\n",
       "      <td>1190</td>\n",
       "      <td>1060</td>\n",
       "      <td>1150</td>\n",
       "      <td>1250</td>\n",
       "      <td>NaN</td>\n",
       "    </tr>\n",
       "    <tr>\n",
       "      <th>United Arab Emirates</th>\n",
       "      <td>152k</td>\n",
       "      <td>149k</td>\n",
       "      <td>163k</td>\n",
       "      <td>171k</td>\n",
       "      <td>174k</td>\n",
       "      <td>185k</td>\n",
       "      <td>186k</td>\n",
       "      <td>187k</td>\n",
       "      <td>169k</td>\n",
       "      <td>NaN</td>\n",
       "    </tr>\n",
       "    <tr>\n",
       "      <th>Argentina</th>\n",
       "      <td>84.5k</td>\n",
       "      <td>81.3k</td>\n",
       "      <td>84.3k</td>\n",
       "      <td>87.1k</td>\n",
       "      <td>84.7k</td>\n",
       "      <td>86.2k</td>\n",
       "      <td>82.9k</td>\n",
       "      <td>82.9k</td>\n",
       "      <td>80.8k</td>\n",
       "      <td>NaN</td>\n",
       "    </tr>\n",
       "    <tr>\n",
       "      <th>Armenia</th>\n",
       "      <td>602</td>\n",
       "      <td>738</td>\n",
       "      <td>692</td>\n",
       "      <td>746</td>\n",
       "      <td>861</td>\n",
       "      <td>846</td>\n",
       "      <td>826</td>\n",
       "      <td>797</td>\n",
       "      <td>825</td>\n",
       "      <td>NaN</td>\n",
       "    </tr>\n",
       "  </tbody>\n",
       "</table>\n",
       "</div>"
      ],
      "text/plain": [
       "                       2000   2001   2002   2003   2004   2005   2006   2007  \\\n",
       "country                                                                        \n",
       "Angola                43.5k  51.4k  51.4k  57.6k  70.9k    80k    95k   106k   \n",
       "Albania                 883    959   1050   1150   1170   1190   1060   1150   \n",
       "United Arab Emirates   152k   149k   163k   171k   174k   185k   186k   187k   \n",
       "Argentina             84.5k  81.3k  84.3k  87.1k  84.7k  86.2k  82.9k  82.9k   \n",
       "Armenia                 602    738    692    746    861    846    826    797   \n",
       "\n",
       "                       2008 2009  \n",
       "country                           \n",
       "Angola                 101k  NaN  \n",
       "Albania                1250  NaN  \n",
       "United Arab Emirates   169k  NaN  \n",
       "Argentina             80.8k  NaN  \n",
       "Armenia                 825  NaN  "
      ]
     },
     "execution_count": 8,
     "metadata": {},
     "output_type": "execute_result"
    }
   ],
   "source": [
    "energy_df.head()"
   ]
  },
  {
   "cell_type": "code",
   "execution_count": 9,
   "metadata": {},
   "outputs": [
    {
     "data": {
      "text/plain": [
       "(False, True)"
      ]
     },
     "execution_count": 9,
     "metadata": {},
     "output_type": "execute_result"
    }
   ],
   "source": [
    "population_df.isnull().sum().any(),energy_df.isnull().sum().any()"
   ]
  },
  {
   "cell_type": "code",
   "execution_count": 10,
   "metadata": {
    "scrolled": false
   },
   "outputs": [
    {
     "name": "stdout",
     "output_type": "stream",
     "text": [
      "<class 'pandas.core.frame.DataFrame'>\n",
      "Index: 197 entries, Afghanistan to Zimbabwe\n",
      "Data columns (total 10 columns):\n",
      "2000    197 non-null object\n",
      "2001    197 non-null object\n",
      "2002    197 non-null object\n",
      "2003    197 non-null object\n",
      "2004    197 non-null object\n",
      "2005    197 non-null object\n",
      "2006    197 non-null object\n",
      "2007    197 non-null object\n",
      "2008    197 non-null object\n",
      "2009    197 non-null object\n",
      "dtypes: object(10)\n",
      "memory usage: 16.9+ KB\n",
      "<class 'pandas.core.frame.DataFrame'>\n",
      "Index: 135 entries, Angola to Zimbabwe\n",
      "Data columns (total 10 columns):\n",
      "2000    135 non-null object\n",
      "2001    135 non-null object\n",
      "2002    135 non-null object\n",
      "2003    135 non-null object\n",
      "2004    135 non-null object\n",
      "2005    135 non-null object\n",
      "2006    135 non-null object\n",
      "2007    135 non-null object\n",
      "2008    135 non-null object\n",
      "2009    34 non-null object\n",
      "dtypes: object(10)\n",
      "memory usage: 11.6+ KB\n"
     ]
    },
    {
     "data": {
      "text/plain": [
       "(None, None)"
      ]
     },
     "execution_count": 10,
     "metadata": {},
     "output_type": "execute_result"
    }
   ],
   "source": [
    "population_df.info(),energy_df.info()"
   ]
  },
  {
   "cell_type": "code",
   "execution_count": 11,
   "metadata": {},
   "outputs": [
    {
     "data": {
      "text/plain": [
       "(0, 0)"
      ]
     },
     "execution_count": 11,
     "metadata": {},
     "output_type": "execute_result"
    }
   ],
   "source": [
    "sum(population_df.duplicated()),sum(energy_df.duplicated())"
   ]
  },
  {
   "cell_type": "code",
   "execution_count": 12,
   "metadata": {},
   "outputs": [
    {
     "data": {
      "text/plain": [
       "101"
      ]
     },
     "execution_count": 12,
     "metadata": {},
     "output_type": "execute_result"
    }
   ],
   "source": [
    "sum(energy_df['2009'].isnull())"
   ]
  },
  {
   "cell_type": "markdown",
   "metadata": {},
   "source": [
    "**Summary of the datasets:**\n",
    "- Correspond to two csv files, one from the population and the other for the energy production in (toe)\n",
    "- Population data has 197 rows and 10 columns\n",
    "- Energy data has 135 rows and 10 columns\n",
    "- Energy 2009 column contains 101 NaN values\n",
    "- All columns in both datasets corresponds to strings values\n",
    "- Both datasets has no duplicates"
   ]
  },
  {
   "cell_type": "markdown",
   "metadata": {},
   "source": [
    "\n",
    "### Data Cleaning\n",
    " "
   ]
  },
  {
   "cell_type": "markdown",
   "metadata": {},
   "source": [
    "**Copying datasets**"
   ]
  },
  {
   "cell_type": "code",
   "execution_count": 13,
   "metadata": {},
   "outputs": [],
   "source": [
    "df_population = population_df.copy()\n",
    "df_energy = energy_df.copy()"
   ]
  },
  {
   "cell_type": "markdown",
   "metadata": {},
   "source": [
    "**Changing data type ('str' to 'float')**"
   ]
  },
  {
   "cell_type": "code",
   "execution_count": 14,
   "metadata": {},
   "outputs": [],
   "source": [
    "def types_fix(df):\n",
    "    for c in df.columns:\n",
    "        df[c] = df[c].str.replace('.','')\n",
    "        df[c] = df[c].str.replace('k','000')\n",
    "        df[c] = df[c].str.replace('M','000000')\n",
    "        df[c] = df[c].str.replace('B','000000000')\n",
    "        df[c] = df[c].astype('float')"
   ]
  },
  {
   "cell_type": "code",
   "execution_count": 15,
   "metadata": {},
   "outputs": [],
   "source": [
    "types_fix(df_population)\n",
    "types_fix(df_energy)"
   ]
  },
  {
   "cell_type": "markdown",
   "metadata": {},
   "source": [
    "**Dropping 'NaN' values**\n",
    "\n",
    "*We will drop the entire 2009 energy dataset column, which implies dropping the 2009 population column as well*"
   ]
  },
  {
   "cell_type": "code",
   "execution_count": 16,
   "metadata": {},
   "outputs": [],
   "source": [
    "df_population.drop(['2009'],axis=1,inplace=True)\n",
    "df_energy.drop(['2009'],axis=1,inplace=True)"
   ]
  },
  {
   "cell_type": "markdown",
   "metadata": {},
   "source": [
    "**Changing data type ('float' to 'int')**"
   ]
  },
  {
   "cell_type": "code",
   "execution_count": 17,
   "metadata": {},
   "outputs": [],
   "source": [
    "df_population = df_population.astype('int')\n",
    "df_energy = df_energy.astype('int')"
   ]
  },
  {
   "cell_type": "markdown",
   "metadata": {},
   "source": [
    "**Checking changes**"
   ]
  },
  {
   "cell_type": "code",
   "execution_count": 18,
   "metadata": {},
   "outputs": [
    {
     "data": {
      "text/plain": [
       "(array([ True,  True,  True,  True,  True,  True,  True,  True,  True], dtype=bool),\n",
       " array([ True,  True,  True,  True,  True,  True,  True,  True,  True], dtype=bool))"
      ]
     },
     "execution_count": 18,
     "metadata": {},
     "output_type": "execute_result"
    }
   ],
   "source": [
    "(df_population.dtypes=='int64').values,(df_energy.dtypes=='int64').values"
   ]
  },
  {
   "cell_type": "markdown",
   "metadata": {},
   "source": [
    "**Filter countries contained in both datasets**"
   ]
  },
  {
   "cell_type": "code",
   "execution_count": 19,
   "metadata": {},
   "outputs": [],
   "source": [
    "index = df_population.index.join(df_energy.index,'inner')"
   ]
  },
  {
   "cell_type": "code",
   "execution_count": 20,
   "metadata": {},
   "outputs": [],
   "source": [
    "df_population = df_population.loc[index]\n",
    "df_energy = df_energy.loc[index]"
   ]
  },
  {
   "cell_type": "markdown",
   "metadata": {},
   "source": [
    "<a id='eda'></a>\n",
    "## Exploratory Data Analysis\n",
    "\n",
    "### World Energy Production vs Population from 2000 to 2009"
   ]
  },
  {
   "cell_type": "markdown",
   "metadata": {},
   "source": [
    "#### Exploratory analysis of the dataframes"
   ]
  },
  {
   "cell_type": "code",
   "execution_count": 88,
   "metadata": {
    "scrolled": false
   },
   "outputs": [
    {
     "data": {
      "text/html": [
       "<div>\n",
       "<style scoped>\n",
       "    .dataframe tbody tr th:only-of-type {\n",
       "        vertical-align: middle;\n",
       "    }\n",
       "\n",
       "    .dataframe tbody tr th {\n",
       "        vertical-align: top;\n",
       "    }\n",
       "\n",
       "    .dataframe thead th {\n",
       "        text-align: right;\n",
       "    }\n",
       "</style>\n",
       "<table border=\"1\" class=\"dataframe\">\n",
       "  <thead>\n",
       "    <tr style=\"text-align: right;\">\n",
       "      <th></th>\n",
       "      <th>2000</th>\n",
       "      <th>2001</th>\n",
       "      <th>2002</th>\n",
       "      <th>2003</th>\n",
       "      <th>2004</th>\n",
       "      <th>2005</th>\n",
       "      <th>2006</th>\n",
       "      <th>2007</th>\n",
       "      <th>2008</th>\n",
       "    </tr>\n",
       "  </thead>\n",
       "  <tbody>\n",
       "    <tr>\n",
       "      <th>count</th>\n",
       "      <td>1.340000e+02</td>\n",
       "      <td>1.340000e+02</td>\n",
       "      <td>1.340000e+02</td>\n",
       "      <td>1.340000e+02</td>\n",
       "      <td>1.340000e+02</td>\n",
       "      <td>1.340000e+02</td>\n",
       "      <td>1.340000e+02</td>\n",
       "      <td>1.340000e+02</td>\n",
       "      <td>1.340000e+02</td>\n",
       "    </tr>\n",
       "    <tr>\n",
       "      <th>mean</th>\n",
       "      <td>1.218364e+09</td>\n",
       "      <td>2.116849e+09</td>\n",
       "      <td>2.159880e+09</td>\n",
       "      <td>2.147672e+09</td>\n",
       "      <td>2.190950e+09</td>\n",
       "      <td>2.215325e+09</td>\n",
       "      <td>2.228624e+09</td>\n",
       "      <td>1.469960e+09</td>\n",
       "      <td>2.298818e+09</td>\n",
       "    </tr>\n",
       "    <tr>\n",
       "      <th>std</th>\n",
       "      <td>9.361358e+09</td>\n",
       "      <td>1.462944e+10</td>\n",
       "      <td>1.480307e+10</td>\n",
       "      <td>1.491774e+10</td>\n",
       "      <td>1.509235e+10</td>\n",
       "      <td>1.526989e+10</td>\n",
       "      <td>1.539165e+10</td>\n",
       "      <td>1.166827e+10</td>\n",
       "      <td>1.568022e+10</td>\n",
       "    </tr>\n",
       "    <tr>\n",
       "      <th>min</th>\n",
       "      <td>2.830000e+05</td>\n",
       "      <td>2.850000e+05</td>\n",
       "      <td>2.880000e+05</td>\n",
       "      <td>2.910000e+05</td>\n",
       "      <td>2.950000e+05</td>\n",
       "      <td>3.000000e+05</td>\n",
       "      <td>3.050000e+05</td>\n",
       "      <td>3.110000e+05</td>\n",
       "      <td>3.160000e+05</td>\n",
       "    </tr>\n",
       "    <tr>\n",
       "      <th>25%</th>\n",
       "      <td>1.272500e+08</td>\n",
       "      <td>1.295000e+08</td>\n",
       "      <td>1.542500e+08</td>\n",
       "      <td>1.280000e+08</td>\n",
       "      <td>1.402500e+08</td>\n",
       "      <td>1.430000e+08</td>\n",
       "      <td>1.370000e+08</td>\n",
       "      <td>1.662500e+08</td>\n",
       "      <td>1.590000e+08</td>\n",
       "    </tr>\n",
       "    <tr>\n",
       "      <th>50%</th>\n",
       "      <td>2.485000e+08</td>\n",
       "      <td>2.525000e+08</td>\n",
       "      <td>3.000000e+08</td>\n",
       "      <td>2.575000e+08</td>\n",
       "      <td>2.810000e+08</td>\n",
       "      <td>2.780000e+08</td>\n",
       "      <td>2.780000e+08</td>\n",
       "      <td>3.105000e+08</td>\n",
       "      <td>3.090000e+08</td>\n",
       "    </tr>\n",
       "    <tr>\n",
       "      <th>75%</th>\n",
       "      <td>4.840000e+08</td>\n",
       "      <td>5.155000e+08</td>\n",
       "      <td>5.275000e+08</td>\n",
       "      <td>4.857500e+08</td>\n",
       "      <td>5.215000e+08</td>\n",
       "      <td>5.240000e+08</td>\n",
       "      <td>5.397500e+08</td>\n",
       "      <td>6.002500e+08</td>\n",
       "      <td>6.075000e+08</td>\n",
       "    </tr>\n",
       "    <tr>\n",
       "      <th>max</th>\n",
       "      <td>1.080000e+11</td>\n",
       "      <td>1.310000e+11</td>\n",
       "      <td>1.320000e+11</td>\n",
       "      <td>1.320000e+11</td>\n",
       "      <td>1.330000e+11</td>\n",
       "      <td>1.340000e+11</td>\n",
       "      <td>1.350000e+11</td>\n",
       "      <td>1.350000e+11</td>\n",
       "      <td>1.360000e+11</td>\n",
       "    </tr>\n",
       "  </tbody>\n",
       "</table>\n",
       "</div>"
      ],
      "text/plain": [
       "               2000          2001          2002          2003          2004  \\\n",
       "count  1.340000e+02  1.340000e+02  1.340000e+02  1.340000e+02  1.340000e+02   \n",
       "mean   1.218364e+09  2.116849e+09  2.159880e+09  2.147672e+09  2.190950e+09   \n",
       "std    9.361358e+09  1.462944e+10  1.480307e+10  1.491774e+10  1.509235e+10   \n",
       "min    2.830000e+05  2.850000e+05  2.880000e+05  2.910000e+05  2.950000e+05   \n",
       "25%    1.272500e+08  1.295000e+08  1.542500e+08  1.280000e+08  1.402500e+08   \n",
       "50%    2.485000e+08  2.525000e+08  3.000000e+08  2.575000e+08  2.810000e+08   \n",
       "75%    4.840000e+08  5.155000e+08  5.275000e+08  4.857500e+08  5.215000e+08   \n",
       "max    1.080000e+11  1.310000e+11  1.320000e+11  1.320000e+11  1.330000e+11   \n",
       "\n",
       "               2005          2006          2007          2008  \n",
       "count  1.340000e+02  1.340000e+02  1.340000e+02  1.340000e+02  \n",
       "mean   2.215325e+09  2.228624e+09  1.469960e+09  2.298818e+09  \n",
       "std    1.526989e+10  1.539165e+10  1.166827e+10  1.568022e+10  \n",
       "min    3.000000e+05  3.050000e+05  3.110000e+05  3.160000e+05  \n",
       "25%    1.430000e+08  1.370000e+08  1.662500e+08  1.590000e+08  \n",
       "50%    2.780000e+08  2.780000e+08  3.105000e+08  3.090000e+08  \n",
       "75%    5.240000e+08  5.397500e+08  6.002500e+08  6.075000e+08  \n",
       "max    1.340000e+11  1.350000e+11  1.350000e+11  1.360000e+11  "
      ]
     },
     "execution_count": 88,
     "metadata": {},
     "output_type": "execute_result"
    }
   ],
   "source": [
    "df_population.describe()"
   ]
  },
  {
   "cell_type": "code",
   "execution_count": 81,
   "metadata": {
    "scrolled": true
   },
   "outputs": [
    {
     "data": {
      "text/html": [
       "<div>\n",
       "<style scoped>\n",
       "    .dataframe tbody tr th:only-of-type {\n",
       "        vertical-align: middle;\n",
       "    }\n",
       "\n",
       "    .dataframe tbody tr th {\n",
       "        vertical-align: top;\n",
       "    }\n",
       "\n",
       "    .dataframe thead th {\n",
       "        text-align: right;\n",
       "    }\n",
       "</style>\n",
       "<table border=\"1\" class=\"dataframe\">\n",
       "  <thead>\n",
       "    <tr style=\"text-align: right;\">\n",
       "      <th></th>\n",
       "      <th>2000</th>\n",
       "      <th>2001</th>\n",
       "      <th>2002</th>\n",
       "      <th>2003</th>\n",
       "      <th>2004</th>\n",
       "      <th>2005</th>\n",
       "      <th>2006</th>\n",
       "      <th>2007</th>\n",
       "      <th>2008</th>\n",
       "    </tr>\n",
       "  </thead>\n",
       "  <tbody>\n",
       "    <tr>\n",
       "      <th>count</th>\n",
       "      <td>1.340000e+02</td>\n",
       "      <td>1.340000e+02</td>\n",
       "      <td>1.340000e+02</td>\n",
       "      <td>1.340000e+02</td>\n",
       "      <td>1.340000e+02</td>\n",
       "      <td>1.340000e+02</td>\n",
       "      <td>1.340000e+02</td>\n",
       "      <td>1.340000e+02</td>\n",
       "      <td>1.340000e+02</td>\n",
       "    </tr>\n",
       "    <tr>\n",
       "      <th>mean</th>\n",
       "      <td>2.974311e+06</td>\n",
       "      <td>3.069295e+06</td>\n",
       "      <td>3.207679e+06</td>\n",
       "      <td>3.389336e+06</td>\n",
       "      <td>2.692435e+06</td>\n",
       "      <td>3.601923e+06</td>\n",
       "      <td>3.709258e+06</td>\n",
       "      <td>2.715561e+06</td>\n",
       "      <td>3.870003e+06</td>\n",
       "    </tr>\n",
       "    <tr>\n",
       "      <th>std</th>\n",
       "      <td>1.928533e+07</td>\n",
       "      <td>1.958570e+07</td>\n",
       "      <td>2.036682e+07</td>\n",
       "      <td>2.151886e+07</td>\n",
       "      <td>1.977271e+07</td>\n",
       "      <td>2.303216e+07</td>\n",
       "      <td>2.367661e+07</td>\n",
       "      <td>2.024998e+07</td>\n",
       "      <td>2.509440e+07</td>\n",
       "    </tr>\n",
       "    <tr>\n",
       "      <th>min</th>\n",
       "      <td>0.000000e+00</td>\n",
       "      <td>1.910000e+02</td>\n",
       "      <td>3.100000e+01</td>\n",
       "      <td>2.340000e+02</td>\n",
       "      <td>5.100000e+01</td>\n",
       "      <td>2.000000e+02</td>\n",
       "      <td>1.920000e+02</td>\n",
       "      <td>1.010000e+02</td>\n",
       "      <td>1.040000e+02</td>\n",
       "    </tr>\n",
       "    <tr>\n",
       "      <th>25%</th>\n",
       "      <td>2.330000e+03</td>\n",
       "      <td>2.355000e+03</td>\n",
       "      <td>2.415000e+03</td>\n",
       "      <td>2.422500e+03</td>\n",
       "      <td>2.835000e+03</td>\n",
       "      <td>3.305000e+03</td>\n",
       "      <td>3.500000e+03</td>\n",
       "      <td>3.715000e+03</td>\n",
       "      <td>3.572500e+03</td>\n",
       "    </tr>\n",
       "    <tr>\n",
       "      <th>50%</th>\n",
       "      <td>1.045000e+05</td>\n",
       "      <td>1.235000e+05</td>\n",
       "      <td>1.065000e+05</td>\n",
       "      <td>1.080000e+05</td>\n",
       "      <td>1.055000e+05</td>\n",
       "      <td>1.065000e+05</td>\n",
       "      <td>1.140000e+05</td>\n",
       "      <td>1.100000e+05</td>\n",
       "      <td>1.235000e+05</td>\n",
       "    </tr>\n",
       "    <tr>\n",
       "      <th>75%</th>\n",
       "      <td>2.252500e+05</td>\n",
       "      <td>2.625000e+05</td>\n",
       "      <td>2.522500e+05</td>\n",
       "      <td>2.605000e+05</td>\n",
       "      <td>2.692500e+05</td>\n",
       "      <td>2.447500e+05</td>\n",
       "      <td>2.725000e+05</td>\n",
       "      <td>2.370000e+05</td>\n",
       "      <td>2.457500e+05</td>\n",
       "    </tr>\n",
       "    <tr>\n",
       "      <th>max</th>\n",
       "      <td>1.690000e+08</td>\n",
       "      <td>1.660000e+08</td>\n",
       "      <td>1.630000e+08</td>\n",
       "      <td>1.650000e+08</td>\n",
       "      <td>1.630000e+08</td>\n",
       "      <td>1.730000e+08</td>\n",
       "      <td>1.820000e+08</td>\n",
       "      <td>1.990000e+08</td>\n",
       "      <td>2.080000e+08</td>\n",
       "    </tr>\n",
       "  </tbody>\n",
       "</table>\n",
       "</div>"
      ],
      "text/plain": [
       "               2000          2001          2002          2003          2004  \\\n",
       "count  1.340000e+02  1.340000e+02  1.340000e+02  1.340000e+02  1.340000e+02   \n",
       "mean   2.974311e+06  3.069295e+06  3.207679e+06  3.389336e+06  2.692435e+06   \n",
       "std    1.928533e+07  1.958570e+07  2.036682e+07  2.151886e+07  1.977271e+07   \n",
       "min    0.000000e+00  1.910000e+02  3.100000e+01  2.340000e+02  5.100000e+01   \n",
       "25%    2.330000e+03  2.355000e+03  2.415000e+03  2.422500e+03  2.835000e+03   \n",
       "50%    1.045000e+05  1.235000e+05  1.065000e+05  1.080000e+05  1.055000e+05   \n",
       "75%    2.252500e+05  2.625000e+05  2.522500e+05  2.605000e+05  2.692500e+05   \n",
       "max    1.690000e+08  1.660000e+08  1.630000e+08  1.650000e+08  1.630000e+08   \n",
       "\n",
       "               2005          2006          2007          2008  \n",
       "count  1.340000e+02  1.340000e+02  1.340000e+02  1.340000e+02  \n",
       "mean   3.601923e+06  3.709258e+06  2.715561e+06  3.870003e+06  \n",
       "std    2.303216e+07  2.367661e+07  2.024998e+07  2.509440e+07  \n",
       "min    2.000000e+02  1.920000e+02  1.010000e+02  1.040000e+02  \n",
       "25%    3.305000e+03  3.500000e+03  3.715000e+03  3.572500e+03  \n",
       "50%    1.065000e+05  1.140000e+05  1.100000e+05  1.235000e+05  \n",
       "75%    2.447500e+05  2.725000e+05  2.370000e+05  2.457500e+05  \n",
       "max    1.730000e+08  1.820000e+08  1.990000e+08  2.080000e+08  "
      ]
     },
     "execution_count": 81,
     "metadata": {},
     "output_type": "execute_result"
    }
   ],
   "source": [
    "df_energy.describe()"
   ]
  },
  {
   "cell_type": "markdown",
   "metadata": {},
   "source": [
    "#### Visualization"
   ]
  },
  {
   "cell_type": "code",
   "execution_count": 21,
   "metadata": {},
   "outputs": [
    {
     "data": {
      "image/png": "[encoded data removed]",
      "text/plain": [
       "<matplotlib.figure.Figure at 0x7f01e739c8d0>"
      ]
     },
     "metadata": {
      "needs_background": "light"
     },
     "output_type": "display_data"
    }
   ],
   "source": [
    "plt.figure(figsize=(16,8))\n",
    "ax1 = plt.subplot(121)\n",
    "ax1.plot(np.sum(df_population)/10**9)\n",
    "plt.xlabel('Years')\n",
    "plt.ylabel('Number of People (Billions)')\n",
    "plt.title('Population Trend')\n",
    "ax2 = plt.subplot(122)\n",
    "ax2.plot(np.sum(df_energy)/10**9,'orange')\n",
    "plt.xlabel('Years')\n",
    "plt.ylabel('Energy production (Billions Tons Oil Equivalent)')\n",
    "plt.title('Energy Trend');"
   ]
  },
  {
   "cell_type": "markdown",
   "metadata": {},
   "source": [
    "Now if we get the proportions of the data in order to merge the trends plots and see it in the same order of magnitude"
   ]
  },
  {
   "cell_type": "code",
   "execution_count": 59,
   "metadata": {
    "scrolled": false
   },
   "outputs": [
    {
     "data": {
      "image/png": "[encoded data removed]",
      "text/plain": [
       "<matplotlib.figure.Figure at 0x7f01e43d7358>"
      ]
     },
     "metadata": {
      "needs_background": "light"
     },
     "output_type": "display_data"
    }
   ],
   "source": [
    "plt.figure(figsize=(16,8))\n",
    "x1 = np.arange(1999.8,2008.8,1)\n",
    "x2 = np.arange(2000.2,2009,1)\n",
    "plt.bar(x1,np.sum(df_population)/sum(np.sum(df_population)),width=0.4)\n",
    "plt.bar(x2,np.sum(df_energy)/sum(np.sum(df_energy)),width=0.4)\n",
    "plt.xlabel('Years')\n",
    "plt.xticks(np.arange(2000,2009,1))\n",
    "plt.ylabel('Proportion (%)')\n",
    "plt.title('Trends')\n",
    "plt.legend(['Population','Energy production']);"
   ]
  },
  {
   "cell_type": "markdown",
   "metadata": {},
   "source": [
    "**Observations:**\n",
    "- Both could be consider as a positive trends but with different rates.\n",
    "- Population trend has a major increase in the year 2001 and a recovery increase in 2008.\n",
    "- Energy has two years of decrease, 2004 and 2007.\n",
    "- Both trends have a major decrease in 2007."
   ]
  },
  {
   "cell_type": "markdown",
   "metadata": {},
   "source": [
    "### Energy Production per continent vs Population from 2000 to 2009"
   ]
  },
  {
   "cell_type": "markdown",
   "metadata": {},
   "source": [
    "#### Filtering the countries in to continents"
   ]
  },
  {
   "cell_type": "code",
   "execution_count": 60,
   "metadata": {},
   "outputs": [],
   "source": [
    "def continent(df): #Function to filter contries into continents\n",
    "    \n",
    "    #List of contries per continent\n",
    "    america = ['Argentina', 'Bolivia', 'Brazil', 'Canada', 'Chile', 'Colombia', 'Costa Rica', 'Cuba', 'Dominican Republic',\n",
    "               'Ecuador', 'El Salvador', 'Guatemala', 'Guyana', 'Haiti', 'Honduras', 'Jamaica', 'Mexico', 'Nicaragua',\n",
    "               'Panama', 'Paraguay', 'Peru', 'Trinidad and Tobago', 'United States', 'Uruguay', 'Venezuela']\n",
    "    africa = ['Algeria', 'Angola', 'Benin', 'Botswana', 'Burkina Faso', 'Burundi', 'Cabo Verde', 'Cameroon', \n",
    "              'Central African Republic', 'Chad', 'Comoros', 'Congo, Dem. Rep.', 'Congo, Rep.', \"Cote d'Ivoire\",\n",
    "              'Djibouti', 'Egypt', 'Equatorial Guinea', 'Eritrea', 'Eswatini', 'Ethiopia', 'Gabon', 'Gambia', 'Ghana', \n",
    "              'Guinea', 'Guinea-Bissau', 'Kenya', 'Lesotho', 'Liberia', 'Libya', 'Madagascar', 'Malawi', 'Mauritania', \n",
    "              'Mauritius', 'Morocco', 'Mozambique', 'Namibia', 'Niger', 'Nigeria', 'Rwanda', 'Sao Tome and Principe', \n",
    "              'Senegal', 'Seychelles', 'Sierra Leone', 'Somalia', 'South Africa', 'South Sudan', 'Sudan', 'Tanzania',\n",
    "              'Togo', 'Tunisia', 'Uganda', 'Zambia', 'Zimbabwe']\n",
    "    asia = ['Afghanistan', 'Armenia', 'Azerbaijan', 'Bahrain', 'Bangladesh', 'Bhutan', 'Brunei', 'Cambodia', 'China',\n",
    "            'Cyprus', 'Georgia', 'Hong Kong, China', 'India', 'Indonesia', 'Iran', 'Iraq', 'Israel', 'Japan', 'Jordan',\n",
    "            'Kazakhstan', 'Kuwait', 'Kyrgyz Republic', 'Laos', 'Lebanon', 'Malaysia', 'Maldives', 'Mongolia', 'Myanmar',\n",
    "            'Nepal', 'North Korea', 'Oman', 'Pakistan', 'Palestine', 'Philippines', 'Qatar', 'Russia', 'Saudi Arabia',\n",
    "            'Singapore', 'South Korea', 'Sri Lanka', 'Syria', 'Taiwan', 'Tajikistan', 'Thailand', 'Timor-Leste', 'Turkey',\n",
    "            'Turkmenistan', 'United Arab Emirates', 'Uzbekistan', 'Vietnam', 'Yemen']\n",
    "    europe = ['Albania', 'Andorra', 'Armenia', 'Austria', 'Azerbaijan', 'Belarus', 'Belgium', 'Bosnia and Herzegovina',\n",
    "              'Bulgaria', 'Croatia', 'Cyprus', 'Czech Republic', 'Denmark', 'Estonia', 'Finland', 'France', 'Georgia',\n",
    "              'Germany', 'Greece', 'Hungary', 'Iceland', 'Ireland', 'Italy', 'Kazakhstan', 'Kosovo', 'Latvia',\n",
    "              'Liechtenstein', 'Lithuania', 'Luxembourg', 'Malta', 'Moldova', 'Monaco', 'Montenegro', 'Netherlands', \n",
    "              'North Macedonia', 'Norway', 'Poland', 'Portugal', 'Romania', 'Russia', 'San Marino', 'Serbia',\n",
    "              'Slovak Republic', 'Slovenia', 'Spain', 'Sweden', 'Switzerland', 'Turkey', 'Ukraine', 'United Kingdom']\n",
    "    australia = ['Australia', 'Fiji', 'Kiribati', 'Marshall Islands', 'Micronesia', 'Nauru', 'New Zealand', 'Palau',\n",
    "                 'Papua New Guinea', 'Samoa', 'Solomon Islands', 'Tonga', 'Tuvalu', 'Vanuatu']\n",
    "    \n",
    "    #Filtering the countries\n",
    "    cont = []\n",
    "    \n",
    "    for i in df.index:\n",
    "        if i in america:\n",
    "            cont.append('America')\n",
    "        elif i in africa:\n",
    "            cont.append('Africa')\n",
    "        elif i in asia:\n",
    "            cont.append('Asia')\n",
    "        elif i in australia:\n",
    "            cont.append('Australia')\n",
    "        elif i in europe:\n",
    "            cont.append('Europe')\n",
    "    \n",
    "    #creating a new column with the continent\n",
    "    df['continent'] = cont"
   ]
  },
  {
   "cell_type": "code",
   "execution_count": 61,
   "metadata": {},
   "outputs": [],
   "source": [
    "continent(df_population)\n",
    "continent(df_energy)"
   ]
  },
  {
   "cell_type": "code",
   "execution_count": 62,
   "metadata": {
    "scrolled": true
   },
   "outputs": [
    {
     "data": {
      "text/html": [
       "<div>\n",
       "<style scoped>\n",
       "    .dataframe tbody tr th:only-of-type {\n",
       "        vertical-align: middle;\n",
       "    }\n",
       "\n",
       "    .dataframe tbody tr th {\n",
       "        vertical-align: top;\n",
       "    }\n",
       "\n",
       "    .dataframe thead th {\n",
       "        text-align: right;\n",
       "    }\n",
       "</style>\n",
       "<table border=\"1\" class=\"dataframe\">\n",
       "  <thead>\n",
       "    <tr style=\"text-align: right;\">\n",
       "      <th></th>\n",
       "      <th>2000</th>\n",
       "      <th>2001</th>\n",
       "      <th>2002</th>\n",
       "      <th>2003</th>\n",
       "      <th>2004</th>\n",
       "      <th>2005</th>\n",
       "      <th>2006</th>\n",
       "      <th>2007</th>\n",
       "      <th>2008</th>\n",
       "    </tr>\n",
       "    <tr>\n",
       "      <th>continent</th>\n",
       "      <th></th>\n",
       "      <th></th>\n",
       "      <th></th>\n",
       "      <th></th>\n",
       "      <th></th>\n",
       "      <th></th>\n",
       "      <th></th>\n",
       "      <th></th>\n",
       "      <th></th>\n",
       "    </tr>\n",
       "  </thead>\n",
       "  <tbody>\n",
       "    <tr>\n",
       "      <th>Africa</th>\n",
       "      <td>2817871</td>\n",
       "      <td>3476062</td>\n",
       "      <td>3800230</td>\n",
       "      <td>3781055</td>\n",
       "      <td>4219024</td>\n",
       "      <td>3204267</td>\n",
       "      <td>4158890</td>\n",
       "      <td>3368123</td>\n",
       "      <td>4197541</td>\n",
       "    </tr>\n",
       "    <tr>\n",
       "      <th>America</th>\n",
       "      <td>171174818</td>\n",
       "      <td>169002401</td>\n",
       "      <td>165892505</td>\n",
       "      <td>168163598</td>\n",
       "      <td>166672877</td>\n",
       "      <td>168844727</td>\n",
       "      <td>170835727</td>\n",
       "      <td>20885682</td>\n",
       "      <td>172498617</td>\n",
       "    </tr>\n",
       "    <tr>\n",
       "      <th>Asia</th>\n",
       "      <td>218629872</td>\n",
       "      <td>232753607</td>\n",
       "      <td>254611285</td>\n",
       "      <td>276768729</td>\n",
       "      <td>184571428</td>\n",
       "      <td>305315077</td>\n",
       "      <td>316217381</td>\n",
       "      <td>333998003</td>\n",
       "      <td>337083411</td>\n",
       "    </tr>\n",
       "    <tr>\n",
       "      <th>Australia</th>\n",
       "      <td>396000</td>\n",
       "      <td>410000</td>\n",
       "      <td>398000</td>\n",
       "      <td>282000</td>\n",
       "      <td>406000</td>\n",
       "      <td>413000</td>\n",
       "      <td>313000</td>\n",
       "      <td>316000</td>\n",
       "      <td>463000</td>\n",
       "    </tr>\n",
       "    <tr>\n",
       "      <th>Europe</th>\n",
       "      <td>5539117</td>\n",
       "      <td>5643394</td>\n",
       "      <td>5127018</td>\n",
       "      <td>5175695</td>\n",
       "      <td>4916962</td>\n",
       "      <td>4880657</td>\n",
       "      <td>5515635</td>\n",
       "      <td>5317410</td>\n",
       "      <td>4337807</td>\n",
       "    </tr>\n",
       "  </tbody>\n",
       "</table>\n",
       "</div>"
      ],
      "text/plain": [
       "                2000       2001       2002       2003       2004       2005  \\\n",
       "continent                                                                     \n",
       "Africa       2817871    3476062    3800230    3781055    4219024    3204267   \n",
       "America    171174818  169002401  165892505  168163598  166672877  168844727   \n",
       "Asia       218629872  232753607  254611285  276768729  184571428  305315077   \n",
       "Australia     396000     410000     398000     282000     406000     413000   \n",
       "Europe       5539117    5643394    5127018    5175695    4916962    4880657   \n",
       "\n",
       "                2006       2007       2008  \n",
       "continent                                   \n",
       "Africa       4158890    3368123    4197541  \n",
       "America    170835727   20885682  172498617  \n",
       "Asia       316217381  333998003  337083411  \n",
       "Australia     313000     316000     463000  \n",
       "Europe       5515635    5317410    4337807  "
      ]
     },
     "execution_count": 62,
     "metadata": {},
     "output_type": "execute_result"
    }
   ],
   "source": [
    "df_energy.groupby('continent').sum()"
   ]
  },
  {
   "cell_type": "code",
   "execution_count": 63,
   "metadata": {
    "scrolled": false
   },
   "outputs": [
    {
     "data": {
      "text/html": [
       "<div>\n",
       "<style scoped>\n",
       "    .dataframe tbody tr th:only-of-type {\n",
       "        vertical-align: middle;\n",
       "    }\n",
       "\n",
       "    .dataframe tbody tr th {\n",
       "        vertical-align: top;\n",
       "    }\n",
       "\n",
       "    .dataframe thead th {\n",
       "        text-align: right;\n",
       "    }\n",
       "</style>\n",
       "<table border=\"1\" class=\"dataframe\">\n",
       "  <thead>\n",
       "    <tr style=\"text-align: right;\">\n",
       "      <th></th>\n",
       "      <th>2000</th>\n",
       "      <th>2001</th>\n",
       "      <th>2002</th>\n",
       "      <th>2003</th>\n",
       "      <th>2004</th>\n",
       "      <th>2005</th>\n",
       "      <th>2006</th>\n",
       "      <th>2007</th>\n",
       "      <th>2008</th>\n",
       "    </tr>\n",
       "    <tr>\n",
       "      <th>continent</th>\n",
       "      <th></th>\n",
       "      <th></th>\n",
       "      <th></th>\n",
       "      <th></th>\n",
       "      <th></th>\n",
       "      <th></th>\n",
       "      <th></th>\n",
       "      <th></th>\n",
       "      <th></th>\n",
       "    </tr>\n",
       "  </thead>\n",
       "  <tbody>\n",
       "    <tr>\n",
       "      <th>Africa</th>\n",
       "      <td>8639000000</td>\n",
       "      <td>7700000000</td>\n",
       "      <td>9047000000</td>\n",
       "      <td>8339000000</td>\n",
       "      <td>8223000000</td>\n",
       "      <td>9124000000</td>\n",
       "      <td>8840000000</td>\n",
       "      <td>8676000000</td>\n",
       "      <td>9795000000</td>\n",
       "    </tr>\n",
       "    <tr>\n",
       "      <th>America</th>\n",
       "      <td>8246000000</td>\n",
       "      <td>8782000000</td>\n",
       "      <td>8480000000</td>\n",
       "      <td>9032000000</td>\n",
       "      <td>7775000000</td>\n",
       "      <td>8704000000</td>\n",
       "      <td>7948000000</td>\n",
       "      <td>9793000000</td>\n",
       "      <td>8661000000</td>\n",
       "    </tr>\n",
       "    <tr>\n",
       "      <th>Asia</th>\n",
       "      <td>133625613000</td>\n",
       "      <td>252897700000</td>\n",
       "      <td>257475808000</td>\n",
       "      <td>256448942000</td>\n",
       "      <td>262807119000</td>\n",
       "      <td>265131328000</td>\n",
       "      <td>268380375000</td>\n",
       "      <td>163223379000</td>\n",
       "      <td>274261384000</td>\n",
       "    </tr>\n",
       "    <tr>\n",
       "      <th>Australia</th>\n",
       "      <td>583000000</td>\n",
       "      <td>590000000</td>\n",
       "      <td>598000000</td>\n",
       "      <td>607000000</td>\n",
       "      <td>616000000</td>\n",
       "      <td>624000000</td>\n",
       "      <td>632000000</td>\n",
       "      <td>641000000</td>\n",
       "      <td>650000000</td>\n",
       "    </tr>\n",
       "    <tr>\n",
       "      <th>Europe</th>\n",
       "      <td>12167119000</td>\n",
       "      <td>13688128000</td>\n",
       "      <td>13823136000</td>\n",
       "      <td>13361146000</td>\n",
       "      <td>14166158000</td>\n",
       "      <td>13270172000</td>\n",
       "      <td>12835188000</td>\n",
       "      <td>14641205000</td>\n",
       "      <td>14674225000</td>\n",
       "    </tr>\n",
       "  </tbody>\n",
       "</table>\n",
       "</div>"
      ],
      "text/plain": [
       "                   2000          2001          2002          2003  \\\n",
       "continent                                                           \n",
       "Africa       8639000000    7700000000    9047000000    8339000000   \n",
       "America      8246000000    8782000000    8480000000    9032000000   \n",
       "Asia       133625613000  252897700000  257475808000  256448942000   \n",
       "Australia     583000000     590000000     598000000     607000000   \n",
       "Europe      12167119000   13688128000   13823136000   13361146000   \n",
       "\n",
       "                   2004          2005          2006          2007  \\\n",
       "continent                                                           \n",
       "Africa       8223000000    9124000000    8840000000    8676000000   \n",
       "America      7775000000    8704000000    7948000000    9793000000   \n",
       "Asia       262807119000  265131328000  268380375000  163223379000   \n",
       "Australia     616000000     624000000     632000000     641000000   \n",
       "Europe      14166158000   13270172000   12835188000   14641205000   \n",
       "\n",
       "                   2008  \n",
       "continent                \n",
       "Africa       9795000000  \n",
       "America      8661000000  \n",
       "Asia       274261384000  \n",
       "Australia     650000000  \n",
       "Europe      14674225000  "
      ]
     },
     "execution_count": 63,
     "metadata": {},
     "output_type": "execute_result"
    }
   ],
   "source": [
    "df_population.groupby('continent').sum()"
   ]
  },
  {
   "cell_type": "markdown",
   "metadata": {},
   "source": [
    "We are going to normalize the data, in order to compare both datasets and merge them in one figure"
   ]
  },
  {
   "cell_type": "code",
   "execution_count": 64,
   "metadata": {},
   "outputs": [],
   "source": [
    "energy_cont = df_energy.groupby('continent').sum()\n",
    "population_cont = df_population.groupby('continent').sum()"
   ]
  },
  {
   "cell_type": "code",
   "execution_count": 65,
   "metadata": {},
   "outputs": [],
   "source": [
    "def norm(df): #Function created to normalize the data of a dataframe\n",
    "    \n",
    "    #Finding Max, Min and the range between them\n",
    "    xmax = max(np.max(df))\n",
    "    xmin = min(np.min(df))\n",
    "    r = xmax - xmin\n",
    "    \n",
    "    #Returning the normalize dataframe\n",
    "    return (df-xmin)/r"
   ]
  },
  {
   "cell_type": "code",
   "execution_count": 66,
   "metadata": {},
   "outputs": [],
   "source": [
    "p = norm(population_cont)\n",
    "e = norm(energy_cont)"
   ]
  },
  {
   "cell_type": "markdown",
   "metadata": {},
   "source": [
    "#### Exploratory Analysis"
   ]
  },
  {
   "cell_type": "code",
   "execution_count": 89,
   "metadata": {
    "scrolled": false
   },
   "outputs": [
    {
     "data": {
      "text/html": [
       "<div>\n",
       "<style scoped>\n",
       "    .dataframe tbody tr th:only-of-type {\n",
       "        vertical-align: middle;\n",
       "    }\n",
       "\n",
       "    .dataframe tbody tr th {\n",
       "        vertical-align: top;\n",
       "    }\n",
       "\n",
       "    .dataframe thead th {\n",
       "        text-align: right;\n",
       "    }\n",
       "</style>\n",
       "<table border=\"1\" class=\"dataframe\">\n",
       "  <thead>\n",
       "    <tr style=\"text-align: right;\">\n",
       "      <th></th>\n",
       "      <th>2000</th>\n",
       "      <th>2001</th>\n",
       "      <th>2002</th>\n",
       "      <th>2003</th>\n",
       "      <th>2004</th>\n",
       "      <th>2005</th>\n",
       "      <th>2006</th>\n",
       "      <th>2007</th>\n",
       "      <th>2008</th>\n",
       "    </tr>\n",
       "  </thead>\n",
       "  <tbody>\n",
       "    <tr>\n",
       "      <th>count</th>\n",
       "      <td>5.000000e+00</td>\n",
       "      <td>5.000000e+00</td>\n",
       "      <td>5.000000e+00</td>\n",
       "      <td>5.000000e+00</td>\n",
       "      <td>5.000000e+00</td>\n",
       "      <td>5.000000e+00</td>\n",
       "      <td>5.000000e+00</td>\n",
       "      <td>5.000000e+00</td>\n",
       "      <td>5.000000e+00</td>\n",
       "    </tr>\n",
       "    <tr>\n",
       "      <th>mean</th>\n",
       "      <td>3.265215e+10</td>\n",
       "      <td>5.673157e+10</td>\n",
       "      <td>5.788479e+10</td>\n",
       "      <td>5.755762e+10</td>\n",
       "      <td>5.871746e+10</td>\n",
       "      <td>5.937070e+10</td>\n",
       "      <td>5.972711e+10</td>\n",
       "      <td>3.939492e+10</td>\n",
       "      <td>6.160832e+10</td>\n",
       "    </tr>\n",
       "    <tr>\n",
       "      <th>std</th>\n",
       "      <td>5.660388e+10</td>\n",
       "      <td>1.097600e+11</td>\n",
       "      <td>1.116756e+11</td>\n",
       "      <td>1.112786e+11</td>\n",
       "      <td>1.141906e+11</td>\n",
       "      <td>1.151149e+11</td>\n",
       "      <td>1.167239e+11</td>\n",
       "      <td>6.940466e+10</td>\n",
       "      <td>1.189833e+11</td>\n",
       "    </tr>\n",
       "    <tr>\n",
       "      <th>min</th>\n",
       "      <td>5.830000e+08</td>\n",
       "      <td>5.900000e+08</td>\n",
       "      <td>5.980000e+08</td>\n",
       "      <td>6.070000e+08</td>\n",
       "      <td>6.160000e+08</td>\n",
       "      <td>6.240000e+08</td>\n",
       "      <td>6.320000e+08</td>\n",
       "      <td>6.410000e+08</td>\n",
       "      <td>6.500000e+08</td>\n",
       "    </tr>\n",
       "    <tr>\n",
       "      <th>25%</th>\n",
       "      <td>8.246000e+09</td>\n",
       "      <td>7.700000e+09</td>\n",
       "      <td>8.480000e+09</td>\n",
       "      <td>8.339000e+09</td>\n",
       "      <td>7.775000e+09</td>\n",
       "      <td>8.704000e+09</td>\n",
       "      <td>7.948000e+09</td>\n",
       "      <td>8.676000e+09</td>\n",
       "      <td>8.661000e+09</td>\n",
       "    </tr>\n",
       "    <tr>\n",
       "      <th>50%</th>\n",
       "      <td>8.639000e+09</td>\n",
       "      <td>8.782000e+09</td>\n",
       "      <td>9.047000e+09</td>\n",
       "      <td>9.032000e+09</td>\n",
       "      <td>8.223000e+09</td>\n",
       "      <td>9.124000e+09</td>\n",
       "      <td>8.840000e+09</td>\n",
       "      <td>9.793000e+09</td>\n",
       "      <td>9.795000e+09</td>\n",
       "    </tr>\n",
       "    <tr>\n",
       "      <th>75%</th>\n",
       "      <td>1.216712e+10</td>\n",
       "      <td>1.368813e+10</td>\n",
       "      <td>1.382314e+10</td>\n",
       "      <td>1.336115e+10</td>\n",
       "      <td>1.416616e+10</td>\n",
       "      <td>1.327017e+10</td>\n",
       "      <td>1.283519e+10</td>\n",
       "      <td>1.464120e+10</td>\n",
       "      <td>1.467422e+10</td>\n",
       "    </tr>\n",
       "    <tr>\n",
       "      <th>max</th>\n",
       "      <td>1.336256e+11</td>\n",
       "      <td>2.528977e+11</td>\n",
       "      <td>2.574758e+11</td>\n",
       "      <td>2.564489e+11</td>\n",
       "      <td>2.628071e+11</td>\n",
       "      <td>2.651313e+11</td>\n",
       "      <td>2.683804e+11</td>\n",
       "      <td>1.632234e+11</td>\n",
       "      <td>2.742614e+11</td>\n",
       "    </tr>\n",
       "  </tbody>\n",
       "</table>\n",
       "</div>"
      ],
      "text/plain": [
       "               2000          2001          2002          2003          2004  \\\n",
       "count  5.000000e+00  5.000000e+00  5.000000e+00  5.000000e+00  5.000000e+00   \n",
       "mean   3.265215e+10  5.673157e+10  5.788479e+10  5.755762e+10  5.871746e+10   \n",
       "std    5.660388e+10  1.097600e+11  1.116756e+11  1.112786e+11  1.141906e+11   \n",
       "min    5.830000e+08  5.900000e+08  5.980000e+08  6.070000e+08  6.160000e+08   \n",
       "25%    8.246000e+09  7.700000e+09  8.480000e+09  8.339000e+09  7.775000e+09   \n",
       "50%    8.639000e+09  8.782000e+09  9.047000e+09  9.032000e+09  8.223000e+09   \n",
       "75%    1.216712e+10  1.368813e+10  1.382314e+10  1.336115e+10  1.416616e+10   \n",
       "max    1.336256e+11  2.528977e+11  2.574758e+11  2.564489e+11  2.628071e+11   \n",
       "\n",
       "               2005          2006          2007          2008  \n",
       "count  5.000000e+00  5.000000e+00  5.000000e+00  5.000000e+00  \n",
       "mean   5.937070e+10  5.972711e+10  3.939492e+10  6.160832e+10  \n",
       "std    1.151149e+11  1.167239e+11  6.940466e+10  1.189833e+11  \n",
       "min    6.240000e+08  6.320000e+08  6.410000e+08  6.500000e+08  \n",
       "25%    8.704000e+09  7.948000e+09  8.676000e+09  8.661000e+09  \n",
       "50%    9.124000e+09  8.840000e+09  9.793000e+09  9.795000e+09  \n",
       "75%    1.327017e+10  1.283519e+10  1.464120e+10  1.467422e+10  \n",
       "max    2.651313e+11  2.683804e+11  1.632234e+11  2.742614e+11  "
      ]
     },
     "execution_count": 89,
     "metadata": {},
     "output_type": "execute_result"
    }
   ],
   "source": [
    "population_cont.describe()"
   ]
  },
  {
   "cell_type": "code",
   "execution_count": 90,
   "metadata": {},
   "outputs": [
    {
     "data": {
      "text/html": [
       "<div>\n",
       "<style scoped>\n",
       "    .dataframe tbody tr th:only-of-type {\n",
       "        vertical-align: middle;\n",
       "    }\n",
       "\n",
       "    .dataframe tbody tr th {\n",
       "        vertical-align: top;\n",
       "    }\n",
       "\n",
       "    .dataframe thead th {\n",
       "        text-align: right;\n",
       "    }\n",
       "</style>\n",
       "<table border=\"1\" class=\"dataframe\">\n",
       "  <thead>\n",
       "    <tr style=\"text-align: right;\">\n",
       "      <th></th>\n",
       "      <th>2000</th>\n",
       "      <th>2001</th>\n",
       "      <th>2002</th>\n",
       "      <th>2003</th>\n",
       "      <th>2004</th>\n",
       "      <th>2005</th>\n",
       "      <th>2006</th>\n",
       "      <th>2007</th>\n",
       "      <th>2008</th>\n",
       "    </tr>\n",
       "  </thead>\n",
       "  <tbody>\n",
       "    <tr>\n",
       "      <th>count</th>\n",
       "      <td>5.000000e+00</td>\n",
       "      <td>5.000000e+00</td>\n",
       "      <td>5.000000e+00</td>\n",
       "      <td>5.000000e+00</td>\n",
       "      <td>5.000000e+00</td>\n",
       "      <td>5.000000e+00</td>\n",
       "      <td>5.000000e+00</td>\n",
       "      <td>5.000000e+00</td>\n",
       "      <td>5.000000e+00</td>\n",
       "    </tr>\n",
       "    <tr>\n",
       "      <th>mean</th>\n",
       "      <td>7.971154e+07</td>\n",
       "      <td>8.225709e+07</td>\n",
       "      <td>8.596581e+07</td>\n",
       "      <td>9.083422e+07</td>\n",
       "      <td>7.215726e+07</td>\n",
       "      <td>9.653155e+07</td>\n",
       "      <td>9.940813e+07</td>\n",
       "      <td>7.277704e+07</td>\n",
       "      <td>1.037161e+08</td>\n",
       "    </tr>\n",
       "    <tr>\n",
       "      <th>std</th>\n",
       "      <td>1.065000e+08</td>\n",
       "      <td>1.106221e+08</td>\n",
       "      <td>1.177259e+08</td>\n",
       "      <td>1.261614e+08</td>\n",
       "      <td>9.467742e+07</td>\n",
       "      <td>1.370843e+08</td>\n",
       "      <td>1.412588e+08</td>\n",
       "      <td>1.462430e+08</td>\n",
       "      <td>1.496935e+08</td>\n",
       "    </tr>\n",
       "    <tr>\n",
       "      <th>min</th>\n",
       "      <td>3.960000e+05</td>\n",
       "      <td>4.100000e+05</td>\n",
       "      <td>3.980000e+05</td>\n",
       "      <td>2.820000e+05</td>\n",
       "      <td>4.060000e+05</td>\n",
       "      <td>4.130000e+05</td>\n",
       "      <td>3.130000e+05</td>\n",
       "      <td>3.160000e+05</td>\n",
       "      <td>4.630000e+05</td>\n",
       "    </tr>\n",
       "    <tr>\n",
       "      <th>25%</th>\n",
       "      <td>2.817871e+06</td>\n",
       "      <td>3.476062e+06</td>\n",
       "      <td>3.800230e+06</td>\n",
       "      <td>3.781055e+06</td>\n",
       "      <td>4.219024e+06</td>\n",
       "      <td>3.204267e+06</td>\n",
       "      <td>4.158890e+06</td>\n",
       "      <td>3.368123e+06</td>\n",
       "      <td>4.197541e+06</td>\n",
       "    </tr>\n",
       "    <tr>\n",
       "      <th>50%</th>\n",
       "      <td>5.539117e+06</td>\n",
       "      <td>5.643394e+06</td>\n",
       "      <td>5.127018e+06</td>\n",
       "      <td>5.175695e+06</td>\n",
       "      <td>4.916962e+06</td>\n",
       "      <td>4.880657e+06</td>\n",
       "      <td>5.515635e+06</td>\n",
       "      <td>5.317410e+06</td>\n",
       "      <td>4.337807e+06</td>\n",
       "    </tr>\n",
       "    <tr>\n",
       "      <th>75%</th>\n",
       "      <td>1.711748e+08</td>\n",
       "      <td>1.690024e+08</td>\n",
       "      <td>1.658925e+08</td>\n",
       "      <td>1.681636e+08</td>\n",
       "      <td>1.666729e+08</td>\n",
       "      <td>1.688447e+08</td>\n",
       "      <td>1.708357e+08</td>\n",
       "      <td>2.088568e+07</td>\n",
       "      <td>1.724986e+08</td>\n",
       "    </tr>\n",
       "    <tr>\n",
       "      <th>max</th>\n",
       "      <td>2.186299e+08</td>\n",
       "      <td>2.327536e+08</td>\n",
       "      <td>2.546113e+08</td>\n",
       "      <td>2.767687e+08</td>\n",
       "      <td>1.845714e+08</td>\n",
       "      <td>3.053151e+08</td>\n",
       "      <td>3.162174e+08</td>\n",
       "      <td>3.339980e+08</td>\n",
       "      <td>3.370834e+08</td>\n",
       "    </tr>\n",
       "  </tbody>\n",
       "</table>\n",
       "</div>"
      ],
      "text/plain": [
       "               2000          2001          2002          2003          2004  \\\n",
       "count  5.000000e+00  5.000000e+00  5.000000e+00  5.000000e+00  5.000000e+00   \n",
       "mean   7.971154e+07  8.225709e+07  8.596581e+07  9.083422e+07  7.215726e+07   \n",
       "std    1.065000e+08  1.106221e+08  1.177259e+08  1.261614e+08  9.467742e+07   \n",
       "min    3.960000e+05  4.100000e+05  3.980000e+05  2.820000e+05  4.060000e+05   \n",
       "25%    2.817871e+06  3.476062e+06  3.800230e+06  3.781055e+06  4.219024e+06   \n",
       "50%    5.539117e+06  5.643394e+06  5.127018e+06  5.175695e+06  4.916962e+06   \n",
       "75%    1.711748e+08  1.690024e+08  1.658925e+08  1.681636e+08  1.666729e+08   \n",
       "max    2.186299e+08  2.327536e+08  2.546113e+08  2.767687e+08  1.845714e+08   \n",
       "\n",
       "               2005          2006          2007          2008  \n",
       "count  5.000000e+00  5.000000e+00  5.000000e+00  5.000000e+00  \n",
       "mean   9.653155e+07  9.940813e+07  7.277704e+07  1.037161e+08  \n",
       "std    1.370843e+08  1.412588e+08  1.462430e+08  1.496935e+08  \n",
       "min    4.130000e+05  3.130000e+05  3.160000e+05  4.630000e+05  \n",
       "25%    3.204267e+06  4.158890e+06  3.368123e+06  4.197541e+06  \n",
       "50%    4.880657e+06  5.515635e+06  5.317410e+06  4.337807e+06  \n",
       "75%    1.688447e+08  1.708357e+08  2.088568e+07  1.724986e+08  \n",
       "max    3.053151e+08  3.162174e+08  3.339980e+08  3.370834e+08  "
      ]
     },
     "execution_count": 90,
     "metadata": {},
     "output_type": "execute_result"
    }
   ],
   "source": [
    "energy_cont.describe()"
   ]
  },
  {
   "cell_type": "markdown",
   "metadata": {},
   "source": [
    "#### Visualization"
   ]
  },
  {
   "cell_type": "code",
   "execution_count": 67,
   "metadata": {},
   "outputs": [
    {
     "data": {
      "image/png": "[encoded data removed]",
      "text/plain": [
       "<matplotlib.figure.Figure at 0x7f01e42824e0>"
      ]
     },
     "metadata": {
      "needs_background": "light"
     },
     "output_type": "display_data"
    }
   ],
   "source": [
    "fig, (ax1,ax2) = plt.subplots(1,2,sharey=True,sharex=True,figsize=(16,8))\n",
    "for i in p.index:\n",
    "    fig1 = ax1.plot(p.loc[i])\n",
    "    fig2 = ax2.plot(e.loc[i])\n",
    "ax1.set_title('Population Trend')\n",
    "ax1.set_xlabel('Years')\n",
    "ax1.set_ylabel('Normalize Data')\n",
    "plt.title('Energy Trend')\n",
    "plt.ylabel('Normalize Data')\n",
    "plt.xlabel('Years')\n",
    "plt.legend(p.index);"
   ]
  },
  {
   "cell_type": "markdown",
   "metadata": {},
   "source": [
    "**Observations:**\n",
    "- The world population is dominated by Asia\n",
    "- The main continents that produce energy are Asia and America\n",
    "- Asia has a positive trend in energy production\n",
    "- America could be consider as a constant energy production\n",
    "- The two decreases of energy production (2004 and 2007) are related to each main energy productors\n",
    "- Asia could be related to 2004 energy production decrease\n",
    "- America could be related to 2007 energy production decrease\n",
    "- Asia population and America energy production could be related"
   ]
  },
  {
   "cell_type": "markdown",
   "metadata": {},
   "source": [
    "<a id='conclusions'></a>\n",
    "## Conclusions\n",
    "\n",
    "- Results Summary:\n",
    "    - From a worldwide view, population and energy production could be consider as positive trends but with different rates.\n",
    "    - Population trend has a major increase in the year 2001 and a recovery increase in 2008.\n",
    "    - Energy production has two years with a observed decrease.\n",
    "    - Worldwide population and energy production trends have a major decrease in 2007.\n",
    "    - The world population is dominated mainly by Asia.\n",
    "    - The leaders in energy production are Asia and America.\n",
    "    - Asia has a positive trend in energy production, while America could be consider as a constant energy production.\n",
    "    - The two decreases of energy production (2004 and 2007) are related to each continent main energy productors.\n",
    "\n",
    "- The decrease in 2007 of the population of Asia and the energy production of America could be related, so we recomend to analize the correlation between them and if one can be predicted by the other.\n",
    "\n",
    "### Limitations\n",
    "\n",
    "The energy production dataset has information up to 2009, moreover this last year has many NaN values. This limits the analysis to before 2009, which implies in obsolete conclusions."
   ]
  },
  {
   "cell_type": "code",
   "execution_count": 91,
   "metadata": {},
   "outputs": [
    {
     "data": {
      "text/plain": [
       "0"
      ]
     },
     "execution_count": 91,
     "metadata": {},
     "output_type": "execute_result"
    }
   ],
   "source": [
    "from subprocess import call\n",
    "call(['python', '-m', 'nbconvert', 'Investigate_a_Dataset.ipynb'])"
   ]
  },
  {
   "cell_type": "code",
   "execution_count": null,
   "metadata": {},
   "outputs": [],
   "source": []
  }
 ],
 "metadata": {
  "kernelspec": {
   "display_name": "Python 3 (ipykernel)",
   "language": "python",
   "name": "python3"
  },
  "language_info": {
   "codemirror_mode": {
    "name": "ipython",
    "version": 3
   },
   "file_extension": ".py",
   "mimetype": "text/x-python",
   "name": "python",
   "nbconvert_exporter": "python",
   "pygments_lexer": "ipython3",
   "version": "3.9.12"
  }
 },
 "nbformat": 4,
 "nbformat_minor": 2
}
